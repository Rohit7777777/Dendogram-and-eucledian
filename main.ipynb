import numpy as np

import matplotlib.pyplot as plt

import pandas as pd

import seaborn as sns

import os

os.environ["OMP_NUM_THREADS"] = '1'

df=pd.read_csv("https://raw.githubusercontent.com/Code-Unnati/Advance-Course/master/Module-1/Unit-4/mobile_data.csv")

df

df.describe()

dataset=df

plt.figure(1 ,figsize = (15 , 6))

graph = 0 

for x in ['X' , ' Y(k$)' , 'Z (1-100)']:

  graph += 1  

  # ploting graph

  plt.subplot(1 , 3 , graph)

  plt.subplots_adjust(hspace = 0.5 , wspace = 0.5)

  sns.histplot(dataset[x] , bins = 18,kde=True)

  plt.title('Distplot of {}'.format(x))


plt.show()

X = dataset.iloc[:, 3:5].values

from pylab import rcParams
rcParams['figure.figsize'] = 15, 10


import scipy.cluster.hierarchy as sch

dendrogram = sch.dendrogram(sch.linkage(X, method = 'ward'))

plt.title('Dendrogram')

plt.xlabel('Customers')

plt.ylabel('Euclidean Distances')

plt.axhline(y=200, color='r', linestyle='--')

plt.show()

from sklearn.cluster import AgglomerativeClustering

hc = AgglomerativeClustering(n_clusters = 5, metric = 'euclidean', linkage = 'ward')

y_hc = hc.fit_predict(X)

plt.scatter(X[y_hc == 0, 0], X[y_hc == 0, 1], s = 100, c = 'red', label = 'Careful')

plt.scatter(X[y_hc == 1, 0], X[y_hc == 1, 1], s = 100, c = 'blue', label = 'Standard')

plt.scatter(X[y_hc == 2, 0], X[y_hc == 2, 1], s = 100, c = 'green', label = 'Target')

plt.scatter(X[y_hc == 3, 0], X[y_hc == 3, 1], s = 100, c = 'cyan', label = 'Careless')

plt.scatter(X[y_hc == 4, 0], X[y_hc == 4, 1], s = 100, c = 'magenta', label = 'Sensible')

plt.title('Age')

plt.xlabel('Annual Income (k$)')

plt.ylabel('Spending Score (1-100)')

plt.legend()

plt.show()
